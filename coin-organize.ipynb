{
 "cells": [
  {
   "cell_type": "markdown",
   "metadata": {},
   "source": [
    "# Coin Organize\n",
    "  - Criar base de dados\n",
    "  - Esquema de adicionar dados DATA, VALOR, CATEGORIA, DESCRIÇÂO\n",
    "    - Categorias: carro, lazer, investimento, recebido\n",
    "  - Salvar na base de dados, os dados adicionados \n",
    "  - Criar um dashboard \n",
    "    - Gráfico com gastos do dia \n",
    "    - Gráfico com a soma dos gastos de cada categoria\n",
    "    - Soma total dos gráficos \n",
    "    - Filtro de período "
   ]
  },
  {
   "cell_type": "code",
   "execution_count": null,
   "metadata": {},
   "outputs": [],
   "source": [
    "#Bibliotecas  \n",
    "%pip install dash\n",
    "%pip install pandas\n",
    "%pip install plotly"
   ]
  },
  {
   "cell_type": "code",
   "execution_count": 2,
   "metadata": {},
   "outputs": [
    {
     "name": "stderr",
     "output_type": "stream",
     "text": [
      "C:\\Users\\MANOEL~1.RIO\\AppData\\Local\\Temp/ipykernel_18736/1721114114.py:4: UserWarning: \n",
      "The dash_core_components package is deprecated. Please replace\n",
      "`import dash_core_components as dcc` with `from dash import dcc`\n",
      "  import dash_core_components as dcc\n",
      "C:\\Users\\MANOEL~1.RIO\\AppData\\Local\\Temp/ipykernel_18736/1721114114.py:5: UserWarning: \n",
      "The dash_html_components package is deprecated. Please replace\n",
      "`import dash_html_components as html` with `from dash import html`\n",
      "  import dash_html_components as html\n"
     ]
    }
   ],
   "source": [
    "import pandas as pd\n",
    "import numpy as np      \n",
    "import dash\n",
    "import dash_core_components as dcc\n",
    "import dash_html_components as html\n",
    "import plotly.express as px"
   ]
  },
  {
   "cell_type": "markdown",
   "metadata": {},
   "source": [
    "### 1 - Base de dados"
   ]
  },
  {
   "cell_type": "code",
   "execution_count": 76,
   "metadata": {},
   "outputs": [
    {
     "data": {
      "text/html": [
       "<div>\n",
       "<style scoped>\n",
       "    .dataframe tbody tr th:only-of-type {\n",
       "        vertical-align: middle;\n",
       "    }\n",
       "\n",
       "    .dataframe tbody tr th {\n",
       "        vertical-align: top;\n",
       "    }\n",
       "\n",
       "    .dataframe thead th {\n",
       "        text-align: right;\n",
       "    }\n",
       "</style>\n",
       "<table border=\"1\" class=\"dataframe\">\n",
       "  <thead>\n",
       "    <tr style=\"text-align: right;\">\n",
       "      <th></th>\n",
       "      <th>Data</th>\n",
       "      <th>Valor</th>\n",
       "      <th>Categoria</th>\n",
       "      <th>Descrição</th>\n",
       "    </tr>\n",
       "  </thead>\n",
       "  <tbody>\n",
       "    <tr>\n",
       "      <th>0</th>\n",
       "      <td>02/02/2022</td>\n",
       "      <td>100.0</td>\n",
       "      <td>carro</td>\n",
       "      <td>gas oleo</td>\n",
       "    </tr>\n",
       "    <tr>\n",
       "      <th>1</th>\n",
       "      <td>02/02/2022</td>\n",
       "      <td>100.0</td>\n",
       "      <td>recibo</td>\n",
       "      <td>Pag. amorim</td>\n",
       "    </tr>\n",
       "  </tbody>\n",
       "</table>\n",
       "</div>"
      ],
      "text/plain": [
       "         Data  Valor Categoria    Descrição\n",
       "0  02/02/2022  100.0     carro     gas oleo\n",
       "1  02/02/2022  100.0    recibo  Pag. amorim"
      ]
     },
     "metadata": {},
     "output_type": "display_data"
    }
   ],
   "source": [
    "#VARIÁVEIS\n",
    "co_db = pd.read_csv(\"co_db.csv\" , index_col=0)\n",
    "datas = pd.DataFrame()\n",
    "\n",
    "#Arrays\n",
    "date = []\n",
    "value = []\n",
    "cat = []\n",
    "desc = []\n",
    "\n",
    "continuar = input(\"Deseja continuar (S) para sim\").upper()\n",
    "\n",
    "while continuar == 'S':\n",
    "  #Inputando valores\n",
    "  date = input(\"Informe a Data\")\n",
    "  value = int(input(\"Informe o valor de gasto\"))\n",
    "  cat = input(\"Informe a categoria\")\n",
    "  desc = input(\"Informe a descrição\")\n",
    "  continuar = input(\"Deseja informar mais um produto? (S) para sim\").upper() \n",
    "  \n",
    "#Adicionando valores na tabela  \n",
    "datas = datas.append({'Data': date, 'Valor': value, 'Categoria' : cat, 'Descrição' : desc}, ignore_index=True)\n",
    "co_db = co_db.append(datas, ignore_index=True)\n",
    "\n",
    "co_db.to_csv(\"co_db.csv\")\n",
    "display(co_db)"
   ]
  },
  {
   "cell_type": "code",
   "execution_count": 51,
   "metadata": {},
   "outputs": [
    {
     "name": "stdout",
     "output_type": "stream",
     "text": [
      "         Data  Valor Categoria Descrição\n",
      "0  02/12/2021    100     carro  gas oleo\n"
     ]
    }
   ],
   "source": [
    "tb = pd.read_csv(\"co_db.csv\")\n",
    "print(tb)"
   ]
  }
 ],
 "metadata": {
  "interpreter": {
   "hash": "06cdd9b59cdb1dcc3dacf0fff77cfa3e692cfcc757fd907603bee937243b1771"
  },
  "kernelspec": {
   "display_name": "Python 3.10.0 64-bit",
   "language": "python",
   "name": "python3"
  },
  "language_info": {
   "codemirror_mode": {
    "name": "ipython",
    "version": 3
   },
   "file_extension": ".py",
   "mimetype": "text/x-python",
   "name": "python",
   "nbconvert_exporter": "python",
   "pygments_lexer": "ipython3",
   "version": "3.10.0"
  },
  "orig_nbformat": 4
 },
 "nbformat": 4,
 "nbformat_minor": 2
}
