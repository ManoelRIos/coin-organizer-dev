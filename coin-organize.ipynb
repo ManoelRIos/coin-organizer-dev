{
 "cells": [
  {
   "cell_type": "markdown",
   "metadata": {},
   "source": [
    "# Coin Organize\n",
    "  - Criar base de dados\n",
    "  - Esquema de adicionar dados DATA, VALOR, CATEGORIA, DESCRIÇÂO\n",
    "    - Categorias: carro, lazer, investimento, recebido, imprevisto\n",
    "  - Salvar na base de dados, os dados adicionados \n",
    "  - Criar um dashboard \n",
    "    - Gráfico com gastos do dia \n",
    "    - Gráfico com a soma dos gastos de cada categoria\n",
    "    - Soma total dos gráficos \n",
    "    - Filtro de período "
   ]
  },
  {
   "cell_type": "code",
   "execution_count": null,
   "metadata": {},
   "outputs": [],
   "source": [
    "#Bibliotecas  \n",
    "%pip install dash\n",
    "%pip install pandas\n",
    "%pip install plotly"
   ]
  },
  {
   "cell_type": "code",
   "execution_count": 3,
   "metadata": {},
   "outputs": [
    {
     "name": "stderr",
     "output_type": "stream",
     "text": [
      "C:\\Users\\manoe\\AppData\\Local\\Temp\\ipykernel_12556\\1721114114.py:4: UserWarning: \n",
      "The dash_core_components package is deprecated. Please replace\n",
      "`import dash_core_components as dcc` with `from dash import dcc`\n",
      "  import dash_core_components as dcc\n",
      "C:\\Users\\manoe\\AppData\\Local\\Temp\\ipykernel_12556\\1721114114.py:5: UserWarning: \n",
      "The dash_html_components package is deprecated. Please replace\n",
      "`import dash_html_components as html` with `from dash import html`\n",
      "  import dash_html_components as html\n"
     ]
    }
   ],
   "source": [
    "import pandas as pd\n",
    "import plotly.express as px"
   ]
  },
  {
   "cell_type": "markdown",
   "metadata": {},
   "source": [
    "### 1 - Base de dados\n",
    "  - Importar db\n",
    "  - Inputar valores\n",
    "  - Tratar inputs\n",
    "      - A data dever ser tratada de forma que dê para filtrar por período\n",
    "      - Preço deve ser tratado como decimal, para fazer análises de soma, média"
   ]
  },
  {
   "cell_type": "code",
   "execution_count": null,
   "metadata": {},
   "outputs": [],
   "source": [
    "#VARIÁVEIS\n",
    "co_db = pd.read_csv(\"co_db.csv\" , index_col=0)\n",
    "datas = pd.DataFrame()\n",
    "\n",
    "#Arrays\n",
    "date = []\n",
    "value = []\n",
    "cat = []\n",
    "desc = []\n",
    "\n",
    "continuar = input(\"Deseja continuar (S) para sim\").upper()\n",
    "\n",
    "while continuar == 'S':\n",
    "  #Inputando valores\n",
    "  date = input(\"Informe a Data\")\n",
    "  value = input(\"Informe o valor de gasto\")\n",
    "  cat = input(\"Informe a categoria\")\n",
    "  desc = input(\"Informe a descrição\")\n",
    "  continuar = input(\"Deseja informar mais um produto? (S) para sim\").upper() \n",
    "  \n",
    "#Adicionando valores na tabela  \n",
    "datas = datas.append({'Data': date, 'Valor': value, 'Categoria' : cat, 'Descrição' : desc}, ignore_index=True)\n",
    "co_db = co_db.append(datas, ignore_index=True)\n",
    "\n",
    "co_db.to_csv(\"co_db.csv\")\n",
    "display(co_db)"
   ]
  },
  {
   "cell_type": "markdown",
   "metadata": {},
   "source": [
    "### 2 - Gráficos"
   ]
  },
  {
   "cell_type": "code",
   "execution_count": 2,
   "metadata": {},
   "outputs": [
    {
     "ename": "NameError",
     "evalue": "name 'pd' is not defined",
     "output_type": "error",
     "traceback": [
      "\u001b[1;31m---------------------------------------------------------------------------\u001b[0m",
      "\u001b[1;31mNameError\u001b[0m                                 Traceback (most recent call last)",
      "\u001b[1;32mc:\\Users\\manoe\\Documents\\Projects\\coin-organizer-dev\\coin-organize.ipynb Cell 7'\u001b[0m in \u001b[0;36m<module>\u001b[1;34m\u001b[0m\n\u001b[1;32m----> <a href='vscode-notebook-cell:/c%3A/Users/manoe/Documents/Projects/coin-organizer-dev/coin-organize.ipynb#ch0000006?line=0'>1</a>\u001b[0m co_db \u001b[39m=\u001b[39m pd\u001b[39m.\u001b[39mread_csv(\u001b[39m'\u001b[39m\u001b[39mco_db.csv\u001b[39m\u001b[39m'\u001b[39m, index_col\u001b[39m=\u001b[39m\u001b[39m0\u001b[39m)\n\u001b[0;32m      <a href='vscode-notebook-cell:/c%3A/Users/manoe/Documents/Projects/coin-organizer-dev/coin-organize.ipynb#ch0000006?line=1'>2</a>\u001b[0m cat_val \u001b[39m=\u001b[39m pd\u001b[39m.\u001b[39mDataFrame()\n\u001b[0;32m      <a href='vscode-notebook-cell:/c%3A/Users/manoe/Documents/Projects/coin-organizer-dev/coin-organize.ipynb#ch0000006?line=3'>4</a>\u001b[0m cat_val \u001b[39m=\u001b[39m co_db\u001b[39m.\u001b[39mgroupby(by\u001b[39m=\u001b[39m\u001b[39m'\u001b[39m\u001b[39mCategoria\u001b[39m\u001b[39m'\u001b[39m)\u001b[39m.\u001b[39msum() \u001b[39m*\u001b[39m (\u001b[39m-\u001b[39m\u001b[39m1\u001b[39m)\n",
      "\u001b[1;31mNameError\u001b[0m: name 'pd' is not defined"
     ]
    }
   ],
   "source": [
    "\n",
    "co_db = pd.read_csv('co_db.csv', index_col=0)\n",
    "cat_val = pd.DataFrame()\n",
    "\n",
    "cat_val = co_db.groupby(by='Categoria').sum() * (-1)\n",
    "\n",
    "display(cat_val)\n",
    "\n",
    "#Plotando gráfico de barra valor/data\n",
    "fig = px.bar(co_db, x = 'Data', y = 'Valor', color= 'Categoria', barmode=\"group\")\n",
    "fig.show()\n",
    "\n",
    "fig = px.pie(cat_val, values='Valor', names= cat_val.index, title='Gastos por categoria')\n",
    "fig.show()"
   ]
  },
  {
   "cell_type": "markdown",
   "metadata": {},
   "source": [
    "### 3 - Dashboard"
   ]
  },
  {
   "cell_type": "code",
   "execution_count": 1,
   "metadata": {},
   "outputs": [
    {
     "ename": "NameError",
     "evalue": "name 'co_db' is not defined",
     "output_type": "error",
     "traceback": [
      "\u001b[1;31m---------------------------------------------------------------------------\u001b[0m",
      "\u001b[1;31mNameError\u001b[0m                                 Traceback (most recent call last)",
      "\u001b[1;32mc:\\Users\\manoe\\Documents\\Projects\\coin-organizer-dev\\coin-organize.ipynb Cell 9'\u001b[0m in \u001b[0;36m<module>\u001b[1;34m\u001b[0m\n\u001b[0;32m      <a href='vscode-notebook-cell:/c%3A/Users/manoe/Documents/Projects/coin-organizer-dev/coin-organize.ipynb#ch0000008?line=0'>1</a>\u001b[0m \u001b[39m#/dashboard.py\u001b[39;00m\n\u001b[0;32m      <a href='vscode-notebook-cell:/c%3A/Users/manoe/Documents/Projects/coin-organizer-dev/coin-organize.ipynb#ch0000008?line=1'>2</a>\u001b[0m \u001b[39m#Somando total recebido\u001b[39;00m\n\u001b[1;32m----> <a href='vscode-notebook-cell:/c%3A/Users/manoe/Documents/Projects/coin-organizer-dev/coin-organize.ipynb#ch0000008?line=2'>3</a>\u001b[0m total_recebido \u001b[39m=\u001b[39m co_db[\u001b[39m'\u001b[39m\u001b[39mValor\u001b[39m\u001b[39m'\u001b[39m]\u001b[39m.\u001b[39mwhere(co_db[\u001b[39m'\u001b[39m\u001b[39mValor\u001b[39m\u001b[39m'\u001b[39m] \u001b[39m>\u001b[39m \u001b[39m0\u001b[39m)\u001b[39m.\u001b[39msum()\n\u001b[0;32m      <a href='vscode-notebook-cell:/c%3A/Users/manoe/Documents/Projects/coin-organizer-dev/coin-organize.ipynb#ch0000008?line=3'>4</a>\u001b[0m \u001b[39m#Somando total de gastos\u001b[39;00m\n\u001b[0;32m      <a href='vscode-notebook-cell:/c%3A/Users/manoe/Documents/Projects/coin-organizer-dev/coin-organize.ipynb#ch0000008?line=4'>5</a>\u001b[0m total_gasto \u001b[39m=\u001b[39m co_db[\u001b[39m'\u001b[39m\u001b[39mValor\u001b[39m\u001b[39m'\u001b[39m]\u001b[39m.\u001b[39mwhere( co_db[\u001b[39m'\u001b[39m\u001b[39mValor\u001b[39m\u001b[39m'\u001b[39m] \u001b[39m<\u001b[39m \u001b[39m0\u001b[39m )\u001b[39m.\u001b[39msum() \u001b[39m*\u001b[39m (\u001b[39m-\u001b[39m\u001b[39m1\u001b[39m)\n",
      "\u001b[1;31mNameError\u001b[0m: name 'co_db' is not defined"
     ]
    }
   ],
   "source": [
    "#/dashboard.py\n",
    "#Somando total recebido\n",
    "total_recebido = co_db['Valor'].where(co_db['Valor'] > 0).sum()\n",
    "#Somando total de gastos\n",
    "total_gasto = co_db['Valor'].where( co_db['Valor'] < 0 ).sum() * (-1)\n",
    "total = pd.DataFrame({'Total': ['Gasto', 'Ganho'],\n",
    "                      'Valor':[total_gasto, total_recebido]})\n",
    "\n",
    "display(total)"
   ]
  }
 ],
 "metadata": {
  "interpreter": {
   "hash": "06cdd9b59cdb1dcc3dacf0fff77cfa3e692cfcc757fd907603bee937243b1771"
  },
  "kernelspec": {
   "display_name": "Python 3.10.0 64-bit",
   "language": "python",
   "name": "python3"
  },
  "language_info": {
   "codemirror_mode": {
    "name": "ipython",
    "version": 3
   },
   "file_extension": ".py",
   "mimetype": "text/x-python",
   "name": "python",
   "nbconvert_exporter": "python",
   "pygments_lexer": "ipython3",
   "version": "3.10.0"
  },
  "orig_nbformat": 4
 },
 "nbformat": 4,
 "nbformat_minor": 2
}
